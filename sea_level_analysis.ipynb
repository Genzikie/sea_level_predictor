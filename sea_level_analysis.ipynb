{
  "nbformat": 4,
  "nbformat_minor": 0,
  "metadata": {
    "colab": {
      "provenance": []
    },
    "kernelspec": {
      "name": "python3",
      "display_name": "Python 3"
    },
    "language_info": {
      "name": "python"
    }
  },
  "cells": [
    {
      "cell_type": "markdown",
      "source": [
        "Author: Algen Malazarte Jr.\n",
        "\n",
        "Date: 2/18/2023\n",
        "\n",
        "# Rise in Sea Level Analysis\n",
        "\n",
        "In this notebook, we will analyze the rise in sea level over time using data from the Environmental Protection Agency (EPA) and Python libraries such as pandas, matplotlib, and scipy. We will create a scatter plot of the data and calculate two lines of best fit, one for the entire dataset and one for data from 2000 onwards.\n",
        "\n",
        "First, we import the necessary libraries:"
      ],
      "metadata": {
        "id": "aME__Mje_qBG"
      }
    },
    {
      "cell_type": "code",
      "source": [
        "import pandas as pd\n",
        "import matplotlib.pyplot as plt\n",
        "from scipy.stats import linregress"
      ],
      "metadata": {
        "id": "xyxrKMtnAr5b"
      },
      "execution_count": null,
      "outputs": []
    },
    {
      "cell_type": "markdown",
      "source": [
        "Then, we load the data using pandas:"
      ],
      "metadata": {
        "id": "U7ktzelTBBY0"
      }
    },
    {
      "cell_type": "code",
      "source": [
        "data = pd.read_csv(\"epa-sea-level.csv\")"
      ],
      "metadata": {
        "id": "Nv4C_eteBL2u"
      },
      "execution_count": null,
      "outputs": []
    },
    {
      "cell_type": "markdown",
      "source": [
        "Then, we create a scatter plot using matplotlib:"
      ],
      "metadata": {
        "id": "8I4Y272fCzAa"
      }
    },
    {
      "cell_type": "code",
      "source": [
        "plt.scatter(data[\"Year\"], data[\"CSIRO Adjusted Sea Level\"])"
      ],
      "metadata": {
        "id": "ue4NhaaUC-1y"
      },
      "execution_count": null,
      "outputs": []
    },
    {
      "cell_type": "markdown",
      "source": [
        "Next, we calculate the line of best fit for the entire dataset using linregress:"
      ],
      "metadata": {
        "id": "efK3QzHlDUbc"
      }
    },
    {
      "cell_type": "code",
      "source": [
        "slope, intercept, r_value, p_value, std_err = linregress(data[\"Year\"], data[\"CSIRO Adjusted Sea Level\"])"
      ],
      "metadata": {
        "id": "gDYP3_uZDf3s"
      },
      "execution_count": null,
      "outputs": []
    },
    {
      "cell_type": "markdown",
      "source": [
        "We then plot the line of best fit on the scatter plot:"
      ],
      "metadata": {
        "id": "TfBv9ZA_DkKs"
      }
    },
    {
      "cell_type": "code",
      "source": [
        "x = [1880, 2050]\n",
        "y = [intercept + slope * x[0], intercept + slope * x[1]]\n",
        "plt.plot(x, y, color='red', label='Line of best fit')"
      ],
      "metadata": {
        "id": "1hHOozyGESTJ"
      },
      "execution_count": null,
      "outputs": []
    },
    {
      "cell_type": "markdown",
      "source": [
        "We repeat this process for data from 2000 onwards:"
      ],
      "metadata": {
        "id": "ErctrfASEoow"
      }
    },
    {
      "cell_type": "code",
      "source": [
        "data_2000 = data[data[\"Year\"] >= 2000]\n",
        "slope_2000, intercept_2000, r_value_2000, p_value_2000, std_err_2000 = linregress(data_2000[\"Year\"], data_2000[\"CSIRO Adjusted Sea Level\"])"
      ],
      "metadata": {
        "id": "7HDWt7YpEuB5"
      },
      "execution_count": null,
      "outputs": []
    },
    {
      "cell_type": "code",
      "source": [
        "x_2000 = [2000, 2050]\n",
        "y_2000 = [intercept_2000 + slope_2000 * x_2000[0], intercept_2000 + slope_2000 * x_2000[1]]\n",
        "plt.plot(x_2000, y_2000, color='green', label='Line of best fit (2000 onwards)')\n"
      ],
      "metadata": {
        "id": "-BS4qh81ExXy"
      },
      "execution_count": null,
      "outputs": []
    },
    {
      "cell_type": "markdown",
      "source": [
        "Finally, we add labels and a title to the plot and display it:"
      ],
      "metadata": {
        "id": "6-BwmZ0-E05w"
      }
    },
    {
      "cell_type": "code",
      "source": [
        "plt.xlabel(\"Year\")\n",
        "plt.ylabel(\"Sea Level (inches)\")\n",
        "plt.title(\"Rise in Sea Level\")\n",
        "plt.legend()\n",
        "plt.show()"
      ],
      "metadata": {
        "id": "tlbbJkOrE7Ag"
      },
      "execution_count": null,
      "outputs": []
    },
    {
      "cell_type": "markdown",
      "source": [
        "Sources:\n",
        "- Project template: FreeCodeCamp (https://www.freecodecamp.org/)\n",
        "- Dataset: EPA (https://www.epa.gov/)\n"
      ],
      "metadata": {
        "id": "8TvKAWvgFBvo"
      }
    }
  ]
}